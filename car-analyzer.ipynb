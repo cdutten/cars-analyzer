{
 "cells": [
  {
   "cell_type": "markdown",
   "source": [
    "First of all lets grab the data from the website and save it to a file. We will use the `requests` library to do this. We will also use the `BeautifulSoup` library to parse the HTML and extract the data we want."
   ],
   "metadata": {
    "collapsed": false
   },
   "id": "a3afb41b7a79ffcb"
  },
  {
   "cell_type": "code",
   "execution_count": 14,
   "outputs": [],
   "source": [
    "import requests\n",
    "from bs4 import BeautifulSoup\n",
    "import re"
   ],
   "metadata": {
    "collapsed": false,
    "ExecuteTime": {
     "end_time": "2023-10-28T23:06:54.658497Z",
     "start_time": "2023-10-28T23:06:54.640195Z"
    }
   },
   "id": "5d60c1eb93bb7453"
  },
  {
   "cell_type": "code",
   "execution_count": 55,
   "outputs": [],
   "source": [
    "# Create a function that takes a url and returns a dictionary with the data we have collected\n",
    "def get_car_data(url):\n",
    "    raw_html = requests.get(url)\n",
    "    soup = BeautifulSoup(raw_html.content, 'html.parser')\n",
    "\n",
    "    price_html = soup.find_all(name='span', attrs={'class': re.compile('PriceInfo_price__.*')})\n",
    "    price = price_html[0].text\n",
    "    price = price[2:-2]\n",
    "    price = float(price.replace(',', ''))\n",
    "    \n",
    "    mileage_html = soup.find(name='dt', string='Mileage').find_next_sibling('dd').text\n",
    "    mileage_html = mileage_html.replace('km', '')\n",
    "    mileage_html = mileage_html.replace(',', '')\n",
    "    mileage_html = int(mileage_html)\n",
    "    \n",
    "    first_registration_html = soup.find(name='div', string='First registration')\\\n",
    "                                  .find_next_sibling('div')\\\n",
    "                                  .find_next_sibling('div').text\n",
    "    make_model_html = soup.find(name='div', attrs={'class': re.compile('StageTitle_makeModelContainer__.*')})\n",
    "    make = make_model_html.find_all('span')[0].text\n",
    "    model = make_model_html.find_all('span')[1].text\n",
    "    \n",
    "    # Find with soup the A tag with the class LocationWithPin_locationItem__.* and get the text\n",
    "    location_html = soup.find(name='a', attrs={'class': re.compile('LocationWithPin_locationItem__.*')})\n",
    "    location = location_html.text\n",
    "    \n",
    "    \n",
    "    return {\n",
    "        'price': price,\n",
    "        'mileage': mileage_html,\n",
    "        'first_registration': first_registration_html,\n",
    "        'make': make,\n",
    "        'model': model,\n",
    "        'location': location,\n",
    "        'url': url\n",
    "    }"
   ],
   "metadata": {
    "collapsed": false,
    "ExecuteTime": {
     "end_time": "2023-10-28T23:39:12.412610Z",
     "start_time": "2023-10-28T23:39:12.385367Z"
    }
   },
   "id": "168b69c1d27da9c4"
  },
  {
   "cell_type": "code",
   "execution_count": 56,
   "outputs": [
    {
     "name": "stdout",
     "output_type": "stream",
     "text": [
      "{'price': 9990.0, 'mileage': 200000, 'first_registration': '06/2008', 'make': 'Audi ', 'model': 'A5', 'location': 'Hannover, DE'}\n",
      "{'price': 12990.0, 'mileage': 149000, 'first_registration': '10/2005', 'make': 'Mercedes-Benz ', 'model': 'CLS 350', 'location': 'Bad Kreuznach / Planig, DE'}\n"
     ]
    }
   ],
   "source": [
    "cars_to_analyze = [\n",
    "  'https://www.autoscout24.com/offers/audi-a5-coupe-3-2-fsi-quattro-s-line-plus-xenon-b-o-gasoline-black-e6193db6-e5a4-4ef3-a179-8a73a93fec2b?ipc=recommendation&ipl=homepage-bestresult-listings&position=1&source_otp=t10&source=homepage_last-search',\n",
    "  'https://www.autoscout24.com/offers/mercedes-benz-cls-350-7g-tronic-gasoline-silver-c1b46f5f-d7a6-4a63-88ec-cb5baf02413c?ipc=recommendation&ipl=homepage-engine-itemBased&position=3&source_otp=nfm&source=homepage_recommender'\n",
    "]\n",
    "for car in cars_to_analyze:\n",
    "    print(get_car_data(car))"
   ],
   "metadata": {
    "collapsed": false,
    "ExecuteTime": {
     "end_time": "2023-10-28T23:39:14.563489Z",
     "start_time": "2023-10-28T23:39:13.891251Z"
    }
   },
   "id": "2a336e1c66ebdbe8"
  },
  {
   "cell_type": "code",
   "execution_count": null,
   "outputs": [],
   "source": [
    "# Expose the data for prometheus\n",
    "from prometheus_client import start_http_server, Gauge\n",
    "\n",
    "# Expose the car data with the prometheus client\n",
    "def expose_car_data(car_data):\n",
    "    price_gauge = Gauge('car_price', 'Price of the car', ['make', 'model', 'location', 'url'])\n",
    "    mileage_gauge = Gauge('car_mileage', 'Mileage of the car', ['make', 'model', 'location', 'url'])\n",
    "    first_registration_gauge = Gauge('car_first_registration', 'First registration of the car', ['make', 'model', 'location', 'url'])\n",
    "    price_gauge.labels(car_data['make'], car_data['model'], car_data['location'], car_data['url']).set(car_data['price'])\n",
    "    mileage_gauge.labels(car_data['make'], car_data['model'], car_data['location'], car_data['url']).set(car_data['mileage'])\n",
    "    first_registration_gauge.labels(car_data['make'], car_data['model'], car_data['location'], car_data['url']).set(car_data['first_registration'])\n",
    "\n",
    "# start http server for prometheus\n",
    "start_http_server(8000)"
   ],
   "metadata": {
    "collapsed": false
   },
   "id": "7af3f42127fc919c"
  }
 ],
 "metadata": {
  "kernelspec": {
   "display_name": "Python 3",
   "language": "python",
   "name": "python3"
  },
  "language_info": {
   "codemirror_mode": {
    "name": "ipython",
    "version": 2
   },
   "file_extension": ".py",
   "mimetype": "text/x-python",
   "name": "python",
   "nbconvert_exporter": "python",
   "pygments_lexer": "ipython2",
   "version": "2.7.6"
  }
 },
 "nbformat": 4,
 "nbformat_minor": 5
}
